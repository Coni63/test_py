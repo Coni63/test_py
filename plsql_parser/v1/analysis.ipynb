{
 "cells": [
  {
   "cell_type": "code",
   "execution_count": 6,
   "metadata": {},
   "outputs": [],
   "source": [
    "from pathlib import Path\n",
    "import re"
   ]
  },
  {
   "cell_type": "markdown",
   "metadata": {},
   "source": [
    "# Sanitize code"
   ]
  },
  {
   "cell_type": "code",
   "execution_count": 48,
   "metadata": {},
   "outputs": [],
   "source": [
    "def remove_block_comment(code: str) -> str:\n",
    "    regex = r\"/\\*[\\s\\S]*?\\*/\"\n",
    "    return re.sub(regex, '', code, flags=re.MULTILINE)\n",
    "\n",
    "def remove_single_line_comment(code: str) -> str:\n",
    "    # regex = r\"^.*(--.*)$\"\n",
    "    regex = r\"(.*?)(--.*$)\"\n",
    "    # return re.sub(regex, '', code, flags=re.MULTILINE)\n",
    "    return re.sub(regex, r'\\1', code, flags=re.MULTILINE)"
   ]
  },
  {
   "cell_type": "code",
   "execution_count": 52,
   "metadata": {},
   "outputs": [],
   "source": [
    "# s = \"\"\"\n",
    "# test\n",
    "# /* this\n",
    "# is the \n",
    "# /* beginning \n",
    "# of \n",
    "# /* a comment */\n",
    "# foo\n",
    "# \"\"\"\n",
    "\n",
    "# print(remove_block_comment(s))\n",
    "\n",
    "\n",
    "# s = \"\"\"\n",
    "# test\n",
    "# -- This is wrong\n",
    "# line of code -- foo\n",
    "\n",
    "# OK\n",
    "# \"\"\"\n",
    "\n",
    "# print(remove_single_line_comment(s))"
   ]
  },
  {
   "cell_type": "code",
   "execution_count": 49,
   "metadata": {},
   "outputs": [],
   "source": [
    "for file in Path(\"../codebase\").glob(\"*.pkb\"):\n",
    "    code = file.read_text().lower()\n",
    "    break"
   ]
  },
  {
   "cell_type": "code",
   "execution_count": 50,
   "metadata": {},
   "outputs": [],
   "source": [
    "code = remove_block_comment(code)\n",
    "code = remove_single_line_comment(code)"
   ]
  },
  {
   "cell_type": "code",
   "execution_count": 51,
   "metadata": {},
   "outputs": [],
   "source": [
    "with open(\"test.pks\", \"w\") as f:\n",
    "    f.write(code)"
   ]
  },
  {
   "cell_type": "markdown",
   "metadata": {},
   "source": [
    "# Parse"
   ]
  },
  {
   "cell_type": "code",
   "execution_count": 33,
   "metadata": {},
   "outputs": [],
   "source": [
    "def extract_function(pl_sql_code: str) -> list:\n",
    "\n",
    "    # Updated regular expressions for matching functions and procedures\n",
    "    function_pattern = re.compile(r'(?i)(?:CREATE\\s+(?:OR\\s+REPLACE\\s+)?)?FUNCTION\\s+(\\w+)', re.MULTILINE)\n",
    "    procedure_pattern = re.compile(r'(?i)(?:CREATE\\s+(?:OR\\s+REPLACE\\s+)?)?PROCEDURE\\s+(\\w+)', re.MULTILINE)\n",
    "    \n",
    "    # Find all functions and procedures\n",
    "    functions = function_pattern.finditer(pl_sql_code)\n",
    "    procedures = procedure_pattern.finditer(pl_sql_code)\n",
    "    \n",
    "    results = []\n",
    "\n",
    "    for match in list(functions) + list(procedures):\n",
    "        name = match.group(1)\n",
    "        start = match.start()\n",
    "        \n",
    "        # Find the corresponding END\n",
    "        end_match = re.search(r'(?i)\\bEND\\s+' + re.escape(name) + r'\\s*;', pl_sql_code[start:])\n",
    "        if end_match:\n",
    "            end = start + end_match.end()\n",
    "            body = pl_sql_code[start:end]\n",
    "            \n",
    "            # Check if it has BEGIN/END\n",
    "            has_begin_end = 'BEGIN' in body.upper() and 'END' in body.upper()\n",
    "            \n",
    "            # Determine if it's a function or procedure\n",
    "            type_ = 'FUNCTION' if 'FUNCTION' in body.upper() else 'PROCEDURE'\n",
    "            \n",
    "            results.append({\n",
    "                'name': name,\n",
    "                'type': type_,\n",
    "                'has_begin_end': has_begin_end,\n",
    "                'body': body.strip()\n",
    "            })\n",
    "    return results"
   ]
  },
  {
   "cell_type": "code",
   "execution_count": 36,
   "metadata": {},
   "outputs": [],
   "source": [
    "with open(\"test.pks\", \"r\") as f:\n",
    "    code = f.read()"
   ]
  },
  {
   "cell_type": "code",
   "execution_count": 37,
   "metadata": {},
   "outputs": [
    {
     "name": "stdout",
     "output_type": "stream",
     "text": [
      "Name: get_auth_string\n",
      "Type: FUNCTION\n",
      "Has BEGIN/END: True\n",
      "Body:\n",
      "--------------------------------------------------\n",
      "Name: get_signature\n",
      "Type: FUNCTION\n",
      "Has BEGIN/END: True\n",
      "Body:\n",
      "--------------------------------------------------\n",
      "Name: get_aws_id\n",
      "Type: FUNCTION\n",
      "Has BEGIN/END: True\n",
      "Body:\n",
      "--------------------------------------------------\n",
      "Name: get_date_string\n",
      "Type: FUNCTION\n",
      "Has BEGIN/END: True\n",
      "Body:\n",
      "--------------------------------------------------\n",
      "Name: get_epoch\n",
      "Type: FUNCTION\n",
      "Has BEGIN/END: True\n",
      "Body:\n",
      "--------------------------------------------------\n",
      "Name: set_aws_id\n",
      "Type: PROCEDURE\n",
      "Has BEGIN/END: True\n",
      "Body:\n",
      "--------------------------------------------------\n",
      "Name: set_aws_key\n",
      "Type: PROCEDURE\n",
      "Has BEGIN/END: True\n",
      "Body:\n",
      "--------------------------------------------------\n",
      "Name: set_gmt_offset\n",
      "Type: PROCEDURE\n",
      "Has BEGIN/END: True\n",
      "Body:\n",
      "--------------------------------------------------\n",
      "Name: init\n",
      "Type: PROCEDURE\n",
      "Has BEGIN/END: True\n",
      "Body:\n",
      "--------------------------------------------------\n"
     ]
    }
   ],
   "source": [
    "analysis_results = extract_function(code)\n",
    "\n",
    "for item in analysis_results:\n",
    "    print(f\"Name: {item['name']}\")\n",
    "    print(f\"Type: {item['type']}\")\n",
    "    print(f\"Has BEGIN/END: {item['has_begin_end']}\")\n",
    "    print(\"Body:\")\n",
    "    # print(item['body'])\n",
    "    print(\"-\" * 50)"
   ]
  },
  {
   "cell_type": "code",
   "execution_count": null,
   "metadata": {},
   "outputs": [],
   "source": []
  }
 ],
 "metadata": {
  "kernelspec": {
   "display_name": ".venv",
   "language": "python",
   "name": "python3"
  },
  "language_info": {
   "codemirror_mode": {
    "name": "ipython",
    "version": 3
   },
   "file_extension": ".py",
   "mimetype": "text/x-python",
   "name": "python",
   "nbconvert_exporter": "python",
   "pygments_lexer": "ipython3",
   "version": "3.10.11"
  }
 },
 "nbformat": 4,
 "nbformat_minor": 2
}
